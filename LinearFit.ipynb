{
 "cells": [
  {
   "cell_type": "markdown",
   "metadata": {},
   "source": [
    "Alan Wagner Pereira\n",
    "\n",
    "Astronomia Observacional - Observatório Nacional\n",
    "\n",
    "7) Install python using conda (or miniconda if space is an issue) on your computer (no need to be root) and write a simple code to perform a linear fit (not from scratch, use python libraries). Use github to share your code with me"
   ]
  },
  {
   "cell_type": "markdown",
   "metadata": {},
   "source": [
    "Importando o pacote sklearn para realizar a regressão linear, além do numpy e matplotlib"
   ]
  },
  {
   "cell_type": "code",
   "execution_count": 1,
   "metadata": {},
   "outputs": [],
   "source": [
    "import numpy as np\n",
    "import matplotlib.pyplot as plt\n",
    "from sklearn.linear_model import LinearRegression"
   ]
  },
  {
   "cell_type": "markdown",
   "metadata": {},
   "source": [
    "Dados que desejamos obter uma regressão linear:"
   ]
  },
  {
   "cell_type": "code",
   "execution_count": 2,
   "metadata": {},
   "outputs": [],
   "source": [
    "x = np.array([5, 10, 15, 25, 30, 35, 45, 55]).reshape((-1, 1))\n",
    "y = np.array([4, 7, 18, 20, 26, 31, 29, 35])"
   ]
  },
  {
   "cell_type": "markdown",
   "metadata": {},
   "source": [
    "Cria o modelo de regressão linear e ajusta os dados ao modelo:"
   ]
  },
  {
   "cell_type": "code",
   "execution_count": 3,
   "metadata": {},
   "outputs": [],
   "source": [
    "model = LinearRegression().fit(x, y)"
   ]
  },
  {
   "cell_type": "code",
   "execution_count": 4,
   "metadata": {},
   "outputs": [
    {
     "name": "stdout",
     "output_type": "stream",
     "text": [
      "Coeficiente de determinacao: 0.8870841116435203\n",
      "Coeficiente linear: 4.488095238095244\n",
      "Coeficiente angular: [0.60952381]\n"
     ]
    }
   ],
   "source": [
    "print('Coeficiente de determinacao:', model.score(x, y))\n",
    "print('Coeficiente linear:', model.intercept_)\n",
    "print('Coeficiente angular:', model.coef_)"
   ]
  },
  {
   "cell_type": "markdown",
   "metadata": {},
   "source": [
    "Plota dados e o ajuste linear obtido:"
   ]
  },
  {
   "cell_type": "code",
   "execution_count": 5,
   "metadata": {},
   "outputs": [
    {
     "data": {
      "image/png": "[encoded data removed]",
      "text/plain": [
       "<Figure size 432x288 with 1 Axes>"
      ]
     },
     "metadata": {
      "needs_background": "light"
     },
     "output_type": "display_data"
    }
   ],
   "source": [
    "x_fiti=0\n",
    "y_fiti=model.coef_[0]*x_fiti+model.intercept_\n",
    "x_fitf=60\n",
    "y_fitf=model.coef_[0]*x_fitf+model.intercept_\n",
    "x_fit=[x_fiti,x_fitf]\n",
    "y_fit=[y_fiti,y_fitf]\n",
    "\n",
    "fig, ax = plt.subplots()\n",
    "ax.scatter(x,y,label=\"Medidas\")\n",
    "ax.plot(x_fit,y_fit,color='r',label=\"Ajuste\")\n",
    "y_fit=model.coef_*x_fit\n",
    "ax.legend()\n",
    "plt.show()"
   ]
  },
  {
   "cell_type": "code",
   "execution_count": null,
   "metadata": {},
   "outputs": [],
   "source": []
  }
 ],
 "metadata": {
  "kernelspec": {
   "display_name": "Python 3",
   "language": "python",
   "name": "python3"
  },
  "language_info": {
   "codemirror_mode": {
    "name": "ipython",
    "version": 3
   },
   "file_extension": ".py",
   "mimetype": "text/x-python",
   "name": "python",
   "nbconvert_exporter": "python",
   "pygments_lexer": "ipython3",
   "version": "3.7.3"
  }
 },
 "nbformat": 4,
 "nbformat_minor": 2
}
